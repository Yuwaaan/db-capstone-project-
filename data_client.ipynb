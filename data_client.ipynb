{
 "cells": [
  {
   "cell_type": "code",
   "execution_count": 3,
   "id": "09e1a1c9",
   "metadata": {},
   "outputs": [],
   "source": [
    "# Task 1\n",
    "import mysql.connector as connector\n",
    "connection = connector.connect(user = \"root\", password = \"Zyw1999us\")"
   ]
  },
  {
   "cell_type": "code",
   "execution_count": 15,
   "id": "caf28c87",
   "metadata": {},
   "outputs": [],
   "source": [
    "# Task 2\n",
    "cursor = connection.cursor()\n",
    "\n",
    "set_database = \"\"\"use data_modeling_capstone\"\"\"\n",
    "cursor.execute(set_database)\n",
    "\n",
    "show_tables_query = \"SHOW tables\" \n",
    "results=cursor.execute(show_tables_query)"
   ]
  },
  {
   "cell_type": "code",
   "execution_count": 22,
   "id": "69cf6d58",
   "metadata": {},
   "outputs": [
    {
     "name": "stdout",
     "output_type": "stream",
     "text": [
      "There are 0 customer with more than 60$ purchase amount\n",
      "Top customers: ...\n"
     ]
    }
   ],
   "source": [
    "# Task 3\n",
    "tables = cursor.fetchall()\n",
    "for t in tables:\n",
    "    print(t)\n",
    "\n",
    "\n",
    "join_query = \"\"\"\n",
    "    select c.FullName, c.ContactNumber,c.Email, o.TotalCost\n",
    "    from Customers c join Orders o on b.CustomerID = o.CustomerID\n",
    "    where o.TotalCost > 60 order by o.TotalCost desc; \n",
    "\"\"\"\n",
    "cursor.execute(join_query)\n",
    "\n",
    "customers = cursor.fetchall()\n",
    "print(f'There are {len(customers)} customer with more than 60$ purchase amount')\n",
    "print(\"Top customers: ...\")\n",
    "for customer in customers[:10]:\n",
    "    print(f'Full Name: {customer[0]}')\n",
    "    print(f'Phone Number: {customer[1]}')\n",
    "    print(f'Email: {customer[2]}')\n",
    "    print(f'Total Cost: {float(customer[6])}')"
   ]
  }
 ],
 "metadata": {
  "kernelspec": {
   "display_name": "Python 3 (ipykernel)",
   "language": "python",
   "name": "python3"
  },
  "language_info": {
   "codemirror_mode": {
    "name": "ipython",
    "version": 3
   },
   "file_extension": ".py",
   "mimetype": "text/x-python",
   "name": "python",
   "nbconvert_exporter": "python",
   "pygments_lexer": "ipython3",
   "version": "3.7.3"
  }
 },
 "nbformat": 4,
 "nbformat_minor": 5
}
